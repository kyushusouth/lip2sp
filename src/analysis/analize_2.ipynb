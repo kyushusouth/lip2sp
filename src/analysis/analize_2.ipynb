{
 "cells": [
  {
   "cell_type": "code",
   "execution_count": 16,
   "metadata": {},
   "outputs": [],
   "source": [
    "import polars as pl\n",
    "import seaborn as sns\n",
    "\n",
    "sns.set_style(\"whitegrid\")"
   ]
  },
  {
   "cell_type": "code",
   "execution_count": 17,
   "metadata": {},
   "outputs": [
    {
     "data": {
      "text/html": [
       "<div><style>\n",
       ".dataframe > thead > tr,\n",
       ".dataframe > tbody > tr {\n",
       "  text-align: right;\n",
       "  white-space: pre-wrap;\n",
       "}\n",
       "</style>\n",
       "<small>shape: (30, 11)</small><table border=\"1\" class=\"dataframe\"><thead><tr><th>layer_index_cluster</th><th>n_clusters</th><th>cluster_weight</th><th>method_id</th><th>method</th><th>pretrained</th><th>decoder</th><th>hifigan_input</th><th>wandb</th><th>wer</th><th>spk_sim</th></tr><tr><td>i64</td><td>i64</td><td>f64</td><td>i64</td><td>str</td><td>bool</td><td>str</td><td>str</td><td>str</td><td>f64</td><td>f64</td></tr></thead><tbody><tr><td>8</td><td>100</td><td>0.0001</td><td>0</td><td>&quot;avhubert_base&quot;</td><td>null</td><td>&quot;convres&quot;</td><td>&quot;mel,ssl&quot;</td><td>&quot;https://wandb.ai/minami373/lip…</td><td>0.5629</td><td>0.8441</td></tr><tr><td>8</td><td>100</td><td>0.0001</td><td>1</td><td>&quot;avhubert&quot;</td><td>null</td><td>&quot;convres&quot;</td><td>&quot;mel,ssl&quot;</td><td>&quot;https://wandb.ai/minami373/lip…</td><td>0.5605</td><td>0.8462</td></tr><tr><td>8</td><td>100</td><td>0.0001</td><td>2</td><td>&quot;speech_ssl&quot;</td><td>false</td><td>&quot;convres&quot;</td><td>&quot;mel,ssl&quot;</td><td>&quot;https://wandb.ai/minami373/lip…</td><td>0.5906</td><td>0.8575</td></tr><tr><td>8</td><td>100</td><td>0.0001</td><td>3</td><td>&quot;ensemble&quot;</td><td>false</td><td>&quot;convres&quot;</td><td>&quot;mel,ssl&quot;</td><td>&quot;https://wandb.ai/minami373/lip…</td><td>0.5937</td><td>0.8555</td></tr><tr><td>8</td><td>100</td><td>0.0001</td><td>4</td><td>&quot;speech_ssl&quot;</td><td>true</td><td>&quot;convres&quot;</td><td>&quot;mel,ssl&quot;</td><td>&quot;https://wandb.ai/minami373/lip…</td><td>0.589</td><td>0.8487</td></tr><tr><td>&hellip;</td><td>&hellip;</td><td>&hellip;</td><td>&hellip;</td><td>&hellip;</td><td>&hellip;</td><td>&hellip;</td><td>&hellip;</td><td>&hellip;</td><td>&hellip;</td><td>&hellip;</td></tr><tr><td>8</td><td>100</td><td>1.0</td><td>1</td><td>&quot;avhubert&quot;</td><td>null</td><td>&quot;convres&quot;</td><td>&quot;mel,ssl&quot;</td><td>&quot;https://wandb.ai/minami373/lip…</td><td>0.6095</td><td>0.7227</td></tr><tr><td>8</td><td>100</td><td>1.0</td><td>2</td><td>&quot;speech_ssl&quot;</td><td>false</td><td>&quot;convres&quot;</td><td>&quot;mel,ssl&quot;</td><td>&quot;https://wandb.ai/minami373/lip…</td><td>0.5042</td><td>0.7194</td></tr><tr><td>8</td><td>100</td><td>1.0</td><td>3</td><td>&quot;ensemble&quot;</td><td>false</td><td>&quot;convres&quot;</td><td>&quot;mel,ssl&quot;</td><td>&quot;https://wandb.ai/minami373/lip…</td><td>0.471</td><td>0.7699</td></tr><tr><td>8</td><td>100</td><td>1.0</td><td>4</td><td>&quot;speech_ssl&quot;</td><td>true</td><td>&quot;convres&quot;</td><td>&quot;mel,ssl&quot;</td><td>&quot;https://wandb.ai/minami373/lip…</td><td>0.4892</td><td>0.7375</td></tr><tr><td>8</td><td>100</td><td>1.0</td><td>5</td><td>&quot;ensemble&quot;</td><td>true</td><td>&quot;convres&quot;</td><td>&quot;mel,ssl&quot;</td><td>&quot;https://wandb.ai/minami373/lip…</td><td>0.4949</td><td>0.7671</td></tr></tbody></table></div>"
      ],
      "text/plain": [
       "shape: (30, 11)\n",
       "┌────────────┬────────────┬────────────┬───────────┬───┬────────────┬───────────┬────────┬─────────┐\n",
       "│ layer_inde ┆ n_clusters ┆ cluster_we ┆ method_id ┆ … ┆ hifigan_in ┆ wandb     ┆ wer    ┆ spk_sim │\n",
       "│ x_cluster  ┆ ---        ┆ ight       ┆ ---       ┆   ┆ put        ┆ ---       ┆ ---    ┆ ---     │\n",
       "│ ---        ┆ i64        ┆ ---        ┆ i64       ┆   ┆ ---        ┆ str       ┆ f64    ┆ f64     │\n",
       "│ i64        ┆            ┆ f64        ┆           ┆   ┆ str        ┆           ┆        ┆         │\n",
       "╞════════════╪════════════╪════════════╪═══════════╪═══╪════════════╪═══════════╪════════╪═════════╡\n",
       "│ 8          ┆ 100        ┆ 0.0001     ┆ 0         ┆ … ┆ mel,ssl    ┆ https://w ┆ 0.5629 ┆ 0.8441  │\n",
       "│            ┆            ┆            ┆           ┆   ┆            ┆ andb.ai/m ┆        ┆         │\n",
       "│            ┆            ┆            ┆           ┆   ┆            ┆ inami373/ ┆        ┆         │\n",
       "│            ┆            ┆            ┆           ┆   ┆            ┆ lip…      ┆        ┆         │\n",
       "│ 8          ┆ 100        ┆ 0.0001     ┆ 1         ┆ … ┆ mel,ssl    ┆ https://w ┆ 0.5605 ┆ 0.8462  │\n",
       "│            ┆            ┆            ┆           ┆   ┆            ┆ andb.ai/m ┆        ┆         │\n",
       "│            ┆            ┆            ┆           ┆   ┆            ┆ inami373/ ┆        ┆         │\n",
       "│            ┆            ┆            ┆           ┆   ┆            ┆ lip…      ┆        ┆         │\n",
       "│ 8          ┆ 100        ┆ 0.0001     ┆ 2         ┆ … ┆ mel,ssl    ┆ https://w ┆ 0.5906 ┆ 0.8575  │\n",
       "│            ┆            ┆            ┆           ┆   ┆            ┆ andb.ai/m ┆        ┆         │\n",
       "│            ┆            ┆            ┆           ┆   ┆            ┆ inami373/ ┆        ┆         │\n",
       "│            ┆            ┆            ┆           ┆   ┆            ┆ lip…      ┆        ┆         │\n",
       "│ 8          ┆ 100        ┆ 0.0001     ┆ 3         ┆ … ┆ mel,ssl    ┆ https://w ┆ 0.5937 ┆ 0.8555  │\n",
       "│            ┆            ┆            ┆           ┆   ┆            ┆ andb.ai/m ┆        ┆         │\n",
       "│            ┆            ┆            ┆           ┆   ┆            ┆ inami373/ ┆        ┆         │\n",
       "│            ┆            ┆            ┆           ┆   ┆            ┆ lip…      ┆        ┆         │\n",
       "│ 8          ┆ 100        ┆ 0.0001     ┆ 4         ┆ … ┆ mel,ssl    ┆ https://w ┆ 0.589  ┆ 0.8487  │\n",
       "│            ┆            ┆            ┆           ┆   ┆            ┆ andb.ai/m ┆        ┆         │\n",
       "│            ┆            ┆            ┆           ┆   ┆            ┆ inami373/ ┆        ┆         │\n",
       "│            ┆            ┆            ┆           ┆   ┆            ┆ lip…      ┆        ┆         │\n",
       "│ …          ┆ …          ┆ …          ┆ …         ┆ … ┆ …          ┆ …         ┆ …      ┆ …       │\n",
       "│ 8          ┆ 100        ┆ 1.0        ┆ 1         ┆ … ┆ mel,ssl    ┆ https://w ┆ 0.6095 ┆ 0.7227  │\n",
       "│            ┆            ┆            ┆           ┆   ┆            ┆ andb.ai/m ┆        ┆         │\n",
       "│            ┆            ┆            ┆           ┆   ┆            ┆ inami373/ ┆        ┆         │\n",
       "│            ┆            ┆            ┆           ┆   ┆            ┆ lip…      ┆        ┆         │\n",
       "│ 8          ┆ 100        ┆ 1.0        ┆ 2         ┆ … ┆ mel,ssl    ┆ https://w ┆ 0.5042 ┆ 0.7194  │\n",
       "│            ┆            ┆            ┆           ┆   ┆            ┆ andb.ai/m ┆        ┆         │\n",
       "│            ┆            ┆            ┆           ┆   ┆            ┆ inami373/ ┆        ┆         │\n",
       "│            ┆            ┆            ┆           ┆   ┆            ┆ lip…      ┆        ┆         │\n",
       "│ 8          ┆ 100        ┆ 1.0        ┆ 3         ┆ … ┆ mel,ssl    ┆ https://w ┆ 0.471  ┆ 0.7699  │\n",
       "│            ┆            ┆            ┆           ┆   ┆            ┆ andb.ai/m ┆        ┆         │\n",
       "│            ┆            ┆            ┆           ┆   ┆            ┆ inami373/ ┆        ┆         │\n",
       "│            ┆            ┆            ┆           ┆   ┆            ┆ lip…      ┆        ┆         │\n",
       "│ 8          ┆ 100        ┆ 1.0        ┆ 4         ┆ … ┆ mel,ssl    ┆ https://w ┆ 0.4892 ┆ 0.7375  │\n",
       "│            ┆            ┆            ┆           ┆   ┆            ┆ andb.ai/m ┆        ┆         │\n",
       "│            ┆            ┆            ┆           ┆   ┆            ┆ inami373/ ┆        ┆         │\n",
       "│            ┆            ┆            ┆           ┆   ┆            ┆ lip…      ┆        ┆         │\n",
       "│ 8          ┆ 100        ┆ 1.0        ┆ 5         ┆ … ┆ mel,ssl    ┆ https://w ┆ 0.4949 ┆ 0.7671  │\n",
       "│            ┆            ┆            ┆           ┆   ┆            ┆ andb.ai/m ┆        ┆         │\n",
       "│            ┆            ┆            ┆           ┆   ┆            ┆ inami373/ ┆        ┆         │\n",
       "│            ┆            ┆            ┆           ┆   ┆            ┆ lip…      ┆        ┆         │\n",
       "└────────────┴────────────┴────────────┴───────────┴───┴────────────┴───────────┴────────┴─────────┘"
      ]
     },
     "execution_count": 17,
     "metadata": {},
     "output_type": "execute_result"
    }
   ],
   "source": [
    "df = pl.read_csv(\"./m2 - base_hubert_2_2.csv\")\n",
    "df = df.filter((pl.col(\"decoder\") == \"convres\"))\n",
    "df"
   ]
  },
  {
   "cell_type": "code",
   "execution_count": 18,
   "metadata": {},
   "outputs": [
    {
     "data": {
      "text/html": [
       "<div><style>\n",
       ".dataframe > thead > tr,\n",
       ".dataframe > tbody > tr {\n",
       "  text-align: right;\n",
       "  white-space: pre-wrap;\n",
       "}\n",
       "</style>\n",
       "<small>shape: (5, 11)</small><table border=\"1\" class=\"dataframe\"><thead><tr><th>layer_index_cluster</th><th>n_clusters</th><th>cluster_weight</th><th>method_id</th><th>method</th><th>pretrained</th><th>decoder</th><th>hifigan_input</th><th>wandb</th><th>wer</th><th>spk_sim</th></tr><tr><td>i64</td><td>i64</td><td>f64</td><td>i64</td><td>str</td><td>bool</td><td>str</td><td>str</td><td>str</td><td>f64</td><td>f64</td></tr></thead><tbody><tr><td>8</td><td>100</td><td>0.0001</td><td>0</td><td>&quot;avhubert_base&quot;</td><td>null</td><td>&quot;convres&quot;</td><td>&quot;mel,ssl&quot;</td><td>&quot;https://wandb.ai/minami373/lip…</td><td>0.5629</td><td>0.8441</td></tr><tr><td>8</td><td>100</td><td>0.001</td><td>0</td><td>&quot;avhubert_base&quot;</td><td>null</td><td>&quot;convres&quot;</td><td>&quot;mel,ssl&quot;</td><td>&quot;https://wandb.ai/minami373/lip…</td><td>0.5535</td><td>0.8441</td></tr><tr><td>8</td><td>100</td><td>0.01</td><td>0</td><td>&quot;avhubert_base&quot;</td><td>null</td><td>&quot;convres&quot;</td><td>&quot;mel,ssl&quot;</td><td>&quot;https://wandb.ai/minami373/lip…</td><td>0.5541</td><td>0.8448</td></tr><tr><td>8</td><td>100</td><td>0.1</td><td>0</td><td>&quot;avhubert_base&quot;</td><td>null</td><td>&quot;convres&quot;</td><td>&quot;mel,ssl&quot;</td><td>&quot;https://wandb.ai/minami373/lip…</td><td>0.5944</td><td>0.7827</td></tr><tr><td>8</td><td>100</td><td>1.0</td><td>0</td><td>&quot;avhubert_base&quot;</td><td>null</td><td>&quot;convres&quot;</td><td>&quot;mel,ssl&quot;</td><td>&quot;https://wandb.ai/minami373/lip…</td><td>0.6186</td><td>0.7167</td></tr></tbody></table></div>"
      ],
      "text/plain": [
       "shape: (5, 11)\n",
       "┌────────────┬────────────┬────────────┬───────────┬───┬────────────┬───────────┬────────┬─────────┐\n",
       "│ layer_inde ┆ n_clusters ┆ cluster_we ┆ method_id ┆ … ┆ hifigan_in ┆ wandb     ┆ wer    ┆ spk_sim │\n",
       "│ x_cluster  ┆ ---        ┆ ight       ┆ ---       ┆   ┆ put        ┆ ---       ┆ ---    ┆ ---     │\n",
       "│ ---        ┆ i64        ┆ ---        ┆ i64       ┆   ┆ ---        ┆ str       ┆ f64    ┆ f64     │\n",
       "│ i64        ┆            ┆ f64        ┆           ┆   ┆ str        ┆           ┆        ┆         │\n",
       "╞════════════╪════════════╪════════════╪═══════════╪═══╪════════════╪═══════════╪════════╪═════════╡\n",
       "│ 8          ┆ 100        ┆ 0.0001     ┆ 0         ┆ … ┆ mel,ssl    ┆ https://w ┆ 0.5629 ┆ 0.8441  │\n",
       "│            ┆            ┆            ┆           ┆   ┆            ┆ andb.ai/m ┆        ┆         │\n",
       "│            ┆            ┆            ┆           ┆   ┆            ┆ inami373/ ┆        ┆         │\n",
       "│            ┆            ┆            ┆           ┆   ┆            ┆ lip…      ┆        ┆         │\n",
       "│ 8          ┆ 100        ┆ 0.001      ┆ 0         ┆ … ┆ mel,ssl    ┆ https://w ┆ 0.5535 ┆ 0.8441  │\n",
       "│            ┆            ┆            ┆           ┆   ┆            ┆ andb.ai/m ┆        ┆         │\n",
       "│            ┆            ┆            ┆           ┆   ┆            ┆ inami373/ ┆        ┆         │\n",
       "│            ┆            ┆            ┆           ┆   ┆            ┆ lip…      ┆        ┆         │\n",
       "│ 8          ┆ 100        ┆ 0.01       ┆ 0         ┆ … ┆ mel,ssl    ┆ https://w ┆ 0.5541 ┆ 0.8448  │\n",
       "│            ┆            ┆            ┆           ┆   ┆            ┆ andb.ai/m ┆        ┆         │\n",
       "│            ┆            ┆            ┆           ┆   ┆            ┆ inami373/ ┆        ┆         │\n",
       "│            ┆            ┆            ┆           ┆   ┆            ┆ lip…      ┆        ┆         │\n",
       "│ 8          ┆ 100        ┆ 0.1        ┆ 0         ┆ … ┆ mel,ssl    ┆ https://w ┆ 0.5944 ┆ 0.7827  │\n",
       "│            ┆            ┆            ┆           ┆   ┆            ┆ andb.ai/m ┆        ┆         │\n",
       "│            ┆            ┆            ┆           ┆   ┆            ┆ inami373/ ┆        ┆         │\n",
       "│            ┆            ┆            ┆           ┆   ┆            ┆ lip…      ┆        ┆         │\n",
       "│ 8          ┆ 100        ┆ 1.0        ┆ 0         ┆ … ┆ mel,ssl    ┆ https://w ┆ 0.6186 ┆ 0.7167  │\n",
       "│            ┆            ┆            ┆           ┆   ┆            ┆ andb.ai/m ┆        ┆         │\n",
       "│            ┆            ┆            ┆           ┆   ┆            ┆ inami373/ ┆        ┆         │\n",
       "│            ┆            ┆            ┆           ┆   ┆            ┆ lip…      ┆        ┆         │\n",
       "└────────────┴────────────┴────────────┴───────────┴───┴────────────┴───────────┴────────┴─────────┘"
      ]
     },
     "execution_count": 18,
     "metadata": {},
     "output_type": "execute_result"
    }
   ],
   "source": [
    "df.filter(pl.col(\"method_id\") == 0)"
   ]
  },
  {
   "cell_type": "code",
   "execution_count": 19,
   "metadata": {},
   "outputs": [
    {
     "data": {
      "text/html": [
       "<div><style>\n",
       ".dataframe > thead > tr,\n",
       ".dataframe > tbody > tr {\n",
       "  text-align: right;\n",
       "  white-space: pre-wrap;\n",
       "}\n",
       "</style>\n",
       "<small>shape: (5, 11)</small><table border=\"1\" class=\"dataframe\"><thead><tr><th>layer_index_cluster</th><th>n_clusters</th><th>cluster_weight</th><th>method_id</th><th>method</th><th>pretrained</th><th>decoder</th><th>hifigan_input</th><th>wandb</th><th>wer</th><th>spk_sim</th></tr><tr><td>i64</td><td>i64</td><td>f64</td><td>i64</td><td>str</td><td>bool</td><td>str</td><td>str</td><td>str</td><td>f64</td><td>f64</td></tr></thead><tbody><tr><td>8</td><td>100</td><td>0.0001</td><td>1</td><td>&quot;avhubert&quot;</td><td>null</td><td>&quot;convres&quot;</td><td>&quot;mel,ssl&quot;</td><td>&quot;https://wandb.ai/minami373/lip…</td><td>0.5605</td><td>0.8462</td></tr><tr><td>8</td><td>100</td><td>0.001</td><td>1</td><td>&quot;avhubert&quot;</td><td>null</td><td>&quot;convres&quot;</td><td>&quot;mel,ssl&quot;</td><td>&quot;https://wandb.ai/minami373/lip…</td><td>0.5752</td><td>0.8496</td></tr><tr><td>8</td><td>100</td><td>0.01</td><td>1</td><td>&quot;avhubert&quot;</td><td>null</td><td>&quot;convres&quot;</td><td>&quot;mel,ssl&quot;</td><td>&quot;https://wandb.ai/minami373/lip…</td><td>0.5295</td><td>0.8494</td></tr><tr><td>8</td><td>100</td><td>0.1</td><td>1</td><td>&quot;avhubert&quot;</td><td>null</td><td>&quot;convres&quot;</td><td>&quot;mel,ssl&quot;</td><td>&quot;https://wandb.ai/minami373/lip…</td><td>0.5727</td><td>0.8258</td></tr><tr><td>8</td><td>100</td><td>1.0</td><td>1</td><td>&quot;avhubert&quot;</td><td>null</td><td>&quot;convres&quot;</td><td>&quot;mel,ssl&quot;</td><td>&quot;https://wandb.ai/minami373/lip…</td><td>0.6095</td><td>0.7227</td></tr></tbody></table></div>"
      ],
      "text/plain": [
       "shape: (5, 11)\n",
       "┌────────────┬────────────┬────────────┬───────────┬───┬────────────┬───────────┬────────┬─────────┐\n",
       "│ layer_inde ┆ n_clusters ┆ cluster_we ┆ method_id ┆ … ┆ hifigan_in ┆ wandb     ┆ wer    ┆ spk_sim │\n",
       "│ x_cluster  ┆ ---        ┆ ight       ┆ ---       ┆   ┆ put        ┆ ---       ┆ ---    ┆ ---     │\n",
       "│ ---        ┆ i64        ┆ ---        ┆ i64       ┆   ┆ ---        ┆ str       ┆ f64    ┆ f64     │\n",
       "│ i64        ┆            ┆ f64        ┆           ┆   ┆ str        ┆           ┆        ┆         │\n",
       "╞════════════╪════════════╪════════════╪═══════════╪═══╪════════════╪═══════════╪════════╪═════════╡\n",
       "│ 8          ┆ 100        ┆ 0.0001     ┆ 1         ┆ … ┆ mel,ssl    ┆ https://w ┆ 0.5605 ┆ 0.8462  │\n",
       "│            ┆            ┆            ┆           ┆   ┆            ┆ andb.ai/m ┆        ┆         │\n",
       "│            ┆            ┆            ┆           ┆   ┆            ┆ inami373/ ┆        ┆         │\n",
       "│            ┆            ┆            ┆           ┆   ┆            ┆ lip…      ┆        ┆         │\n",
       "│ 8          ┆ 100        ┆ 0.001      ┆ 1         ┆ … ┆ mel,ssl    ┆ https://w ┆ 0.5752 ┆ 0.8496  │\n",
       "│            ┆            ┆            ┆           ┆   ┆            ┆ andb.ai/m ┆        ┆         │\n",
       "│            ┆            ┆            ┆           ┆   ┆            ┆ inami373/ ┆        ┆         │\n",
       "│            ┆            ┆            ┆           ┆   ┆            ┆ lip…      ┆        ┆         │\n",
       "│ 8          ┆ 100        ┆ 0.01       ┆ 1         ┆ … ┆ mel,ssl    ┆ https://w ┆ 0.5295 ┆ 0.8494  │\n",
       "│            ┆            ┆            ┆           ┆   ┆            ┆ andb.ai/m ┆        ┆         │\n",
       "│            ┆            ┆            ┆           ┆   ┆            ┆ inami373/ ┆        ┆         │\n",
       "│            ┆            ┆            ┆           ┆   ┆            ┆ lip…      ┆        ┆         │\n",
       "│ 8          ┆ 100        ┆ 0.1        ┆ 1         ┆ … ┆ mel,ssl    ┆ https://w ┆ 0.5727 ┆ 0.8258  │\n",
       "│            ┆            ┆            ┆           ┆   ┆            ┆ andb.ai/m ┆        ┆         │\n",
       "│            ┆            ┆            ┆           ┆   ┆            ┆ inami373/ ┆        ┆         │\n",
       "│            ┆            ┆            ┆           ┆   ┆            ┆ lip…      ┆        ┆         │\n",
       "│ 8          ┆ 100        ┆ 1.0        ┆ 1         ┆ … ┆ mel,ssl    ┆ https://w ┆ 0.6095 ┆ 0.7227  │\n",
       "│            ┆            ┆            ┆           ┆   ┆            ┆ andb.ai/m ┆        ┆         │\n",
       "│            ┆            ┆            ┆           ┆   ┆            ┆ inami373/ ┆        ┆         │\n",
       "│            ┆            ┆            ┆           ┆   ┆            ┆ lip…      ┆        ┆         │\n",
       "└────────────┴────────────┴────────────┴───────────┴───┴────────────┴───────────┴────────┴─────────┘"
      ]
     },
     "execution_count": 19,
     "metadata": {},
     "output_type": "execute_result"
    }
   ],
   "source": [
    "df.filter(pl.col(\"method_id\") == 1)"
   ]
  },
  {
   "cell_type": "code",
   "execution_count": 20,
   "metadata": {},
   "outputs": [
    {
     "data": {
      "text/html": [
       "<div><style>\n",
       ".dataframe > thead > tr,\n",
       ".dataframe > tbody > tr {\n",
       "  text-align: right;\n",
       "  white-space: pre-wrap;\n",
       "}\n",
       "</style>\n",
       "<small>shape: (5, 11)</small><table border=\"1\" class=\"dataframe\"><thead><tr><th>layer_index_cluster</th><th>n_clusters</th><th>cluster_weight</th><th>method_id</th><th>method</th><th>pretrained</th><th>decoder</th><th>hifigan_input</th><th>wandb</th><th>wer</th><th>spk_sim</th></tr><tr><td>i64</td><td>i64</td><td>f64</td><td>i64</td><td>str</td><td>bool</td><td>str</td><td>str</td><td>str</td><td>f64</td><td>f64</td></tr></thead><tbody><tr><td>8</td><td>100</td><td>0.0001</td><td>2</td><td>&quot;speech_ssl&quot;</td><td>false</td><td>&quot;convres&quot;</td><td>&quot;mel,ssl&quot;</td><td>&quot;https://wandb.ai/minami373/lip…</td><td>0.5906</td><td>0.8575</td></tr><tr><td>8</td><td>100</td><td>0.001</td><td>2</td><td>&quot;speech_ssl&quot;</td><td>false</td><td>&quot;convres&quot;</td><td>&quot;mel,ssl&quot;</td><td>&quot;https://wandb.ai/minami373/lip…</td><td>0.5787</td><td>0.8549</td></tr><tr><td>8</td><td>100</td><td>0.01</td><td>2</td><td>&quot;speech_ssl&quot;</td><td>false</td><td>&quot;convres&quot;</td><td>&quot;mel,ssl&quot;</td><td>&quot;https://wandb.ai/minami373/lip…</td><td>0.5854</td><td>0.8578</td></tr><tr><td>8</td><td>100</td><td>0.1</td><td>2</td><td>&quot;speech_ssl&quot;</td><td>false</td><td>&quot;convres&quot;</td><td>&quot;mel,ssl&quot;</td><td>&quot;https://wandb.ai/minami373/lip…</td><td>0.4611</td><td>0.8448</td></tr><tr><td>8</td><td>100</td><td>1.0</td><td>2</td><td>&quot;speech_ssl&quot;</td><td>false</td><td>&quot;convres&quot;</td><td>&quot;mel,ssl&quot;</td><td>&quot;https://wandb.ai/minami373/lip…</td><td>0.5042</td><td>0.7194</td></tr></tbody></table></div>"
      ],
      "text/plain": [
       "shape: (5, 11)\n",
       "┌────────────┬────────────┬────────────┬───────────┬───┬────────────┬───────────┬────────┬─────────┐\n",
       "│ layer_inde ┆ n_clusters ┆ cluster_we ┆ method_id ┆ … ┆ hifigan_in ┆ wandb     ┆ wer    ┆ spk_sim │\n",
       "│ x_cluster  ┆ ---        ┆ ight       ┆ ---       ┆   ┆ put        ┆ ---       ┆ ---    ┆ ---     │\n",
       "│ ---        ┆ i64        ┆ ---        ┆ i64       ┆   ┆ ---        ┆ str       ┆ f64    ┆ f64     │\n",
       "│ i64        ┆            ┆ f64        ┆           ┆   ┆ str        ┆           ┆        ┆         │\n",
       "╞════════════╪════════════╪════════════╪═══════════╪═══╪════════════╪═══════════╪════════╪═════════╡\n",
       "│ 8          ┆ 100        ┆ 0.0001     ┆ 2         ┆ … ┆ mel,ssl    ┆ https://w ┆ 0.5906 ┆ 0.8575  │\n",
       "│            ┆            ┆            ┆           ┆   ┆            ┆ andb.ai/m ┆        ┆         │\n",
       "│            ┆            ┆            ┆           ┆   ┆            ┆ inami373/ ┆        ┆         │\n",
       "│            ┆            ┆            ┆           ┆   ┆            ┆ lip…      ┆        ┆         │\n",
       "│ 8          ┆ 100        ┆ 0.001      ┆ 2         ┆ … ┆ mel,ssl    ┆ https://w ┆ 0.5787 ┆ 0.8549  │\n",
       "│            ┆            ┆            ┆           ┆   ┆            ┆ andb.ai/m ┆        ┆         │\n",
       "│            ┆            ┆            ┆           ┆   ┆            ┆ inami373/ ┆        ┆         │\n",
       "│            ┆            ┆            ┆           ┆   ┆            ┆ lip…      ┆        ┆         │\n",
       "│ 8          ┆ 100        ┆ 0.01       ┆ 2         ┆ … ┆ mel,ssl    ┆ https://w ┆ 0.5854 ┆ 0.8578  │\n",
       "│            ┆            ┆            ┆           ┆   ┆            ┆ andb.ai/m ┆        ┆         │\n",
       "│            ┆            ┆            ┆           ┆   ┆            ┆ inami373/ ┆        ┆         │\n",
       "│            ┆            ┆            ┆           ┆   ┆            ┆ lip…      ┆        ┆         │\n",
       "│ 8          ┆ 100        ┆ 0.1        ┆ 2         ┆ … ┆ mel,ssl    ┆ https://w ┆ 0.4611 ┆ 0.8448  │\n",
       "│            ┆            ┆            ┆           ┆   ┆            ┆ andb.ai/m ┆        ┆         │\n",
       "│            ┆            ┆            ┆           ┆   ┆            ┆ inami373/ ┆        ┆         │\n",
       "│            ┆            ┆            ┆           ┆   ┆            ┆ lip…      ┆        ┆         │\n",
       "│ 8          ┆ 100        ┆ 1.0        ┆ 2         ┆ … ┆ mel,ssl    ┆ https://w ┆ 0.5042 ┆ 0.7194  │\n",
       "│            ┆            ┆            ┆           ┆   ┆            ┆ andb.ai/m ┆        ┆         │\n",
       "│            ┆            ┆            ┆           ┆   ┆            ┆ inami373/ ┆        ┆         │\n",
       "│            ┆            ┆            ┆           ┆   ┆            ┆ lip…      ┆        ┆         │\n",
       "└────────────┴────────────┴────────────┴───────────┴───┴────────────┴───────────┴────────┴─────────┘"
      ]
     },
     "execution_count": 20,
     "metadata": {},
     "output_type": "execute_result"
    }
   ],
   "source": [
    "df.filter(pl.col(\"method_id\") == 2)"
   ]
  },
  {
   "cell_type": "code",
   "execution_count": 21,
   "metadata": {},
   "outputs": [
    {
     "data": {
      "text/html": [
       "<div><style>\n",
       ".dataframe > thead > tr,\n",
       ".dataframe > tbody > tr {\n",
       "  text-align: right;\n",
       "  white-space: pre-wrap;\n",
       "}\n",
       "</style>\n",
       "<small>shape: (5, 11)</small><table border=\"1\" class=\"dataframe\"><thead><tr><th>layer_index_cluster</th><th>n_clusters</th><th>cluster_weight</th><th>method_id</th><th>method</th><th>pretrained</th><th>decoder</th><th>hifigan_input</th><th>wandb</th><th>wer</th><th>spk_sim</th></tr><tr><td>i64</td><td>i64</td><td>f64</td><td>i64</td><td>str</td><td>bool</td><td>str</td><td>str</td><td>str</td><td>f64</td><td>f64</td></tr></thead><tbody><tr><td>8</td><td>100</td><td>0.0001</td><td>3</td><td>&quot;ensemble&quot;</td><td>false</td><td>&quot;convres&quot;</td><td>&quot;mel,ssl&quot;</td><td>&quot;https://wandb.ai/minami373/lip…</td><td>0.5937</td><td>0.8555</td></tr><tr><td>8</td><td>100</td><td>0.001</td><td>3</td><td>&quot;ensemble&quot;</td><td>false</td><td>&quot;convres&quot;</td><td>&quot;mel,ssl&quot;</td><td>&quot;https://wandb.ai/minami373/lip…</td><td>0.5739</td><td>0.8519</td></tr><tr><td>8</td><td>100</td><td>0.01</td><td>3</td><td>&quot;ensemble&quot;</td><td>false</td><td>&quot;convres&quot;</td><td>&quot;mel,ssl&quot;</td><td>&quot;https://wandb.ai/minami373/lip…</td><td>0.5638</td><td>0.8619</td></tr><tr><td>8</td><td>100</td><td>0.1</td><td>3</td><td>&quot;ensemble&quot;</td><td>false</td><td>&quot;convres&quot;</td><td>&quot;mel,ssl&quot;</td><td>&quot;https://wandb.ai/minami373/lip…</td><td>0.4571</td><td>0.8477</td></tr><tr><td>8</td><td>100</td><td>1.0</td><td>3</td><td>&quot;ensemble&quot;</td><td>false</td><td>&quot;convres&quot;</td><td>&quot;mel,ssl&quot;</td><td>&quot;https://wandb.ai/minami373/lip…</td><td>0.471</td><td>0.7699</td></tr></tbody></table></div>"
      ],
      "text/plain": [
       "shape: (5, 11)\n",
       "┌────────────┬────────────┬────────────┬───────────┬───┬────────────┬───────────┬────────┬─────────┐\n",
       "│ layer_inde ┆ n_clusters ┆ cluster_we ┆ method_id ┆ … ┆ hifigan_in ┆ wandb     ┆ wer    ┆ spk_sim │\n",
       "│ x_cluster  ┆ ---        ┆ ight       ┆ ---       ┆   ┆ put        ┆ ---       ┆ ---    ┆ ---     │\n",
       "│ ---        ┆ i64        ┆ ---        ┆ i64       ┆   ┆ ---        ┆ str       ┆ f64    ┆ f64     │\n",
       "│ i64        ┆            ┆ f64        ┆           ┆   ┆ str        ┆           ┆        ┆         │\n",
       "╞════════════╪════════════╪════════════╪═══════════╪═══╪════════════╪═══════════╪════════╪═════════╡\n",
       "│ 8          ┆ 100        ┆ 0.0001     ┆ 3         ┆ … ┆ mel,ssl    ┆ https://w ┆ 0.5937 ┆ 0.8555  │\n",
       "│            ┆            ┆            ┆           ┆   ┆            ┆ andb.ai/m ┆        ┆         │\n",
       "│            ┆            ┆            ┆           ┆   ┆            ┆ inami373/ ┆        ┆         │\n",
       "│            ┆            ┆            ┆           ┆   ┆            ┆ lip…      ┆        ┆         │\n",
       "│ 8          ┆ 100        ┆ 0.001      ┆ 3         ┆ … ┆ mel,ssl    ┆ https://w ┆ 0.5739 ┆ 0.8519  │\n",
       "│            ┆            ┆            ┆           ┆   ┆            ┆ andb.ai/m ┆        ┆         │\n",
       "│            ┆            ┆            ┆           ┆   ┆            ┆ inami373/ ┆        ┆         │\n",
       "│            ┆            ┆            ┆           ┆   ┆            ┆ lip…      ┆        ┆         │\n",
       "│ 8          ┆ 100        ┆ 0.01       ┆ 3         ┆ … ┆ mel,ssl    ┆ https://w ┆ 0.5638 ┆ 0.8619  │\n",
       "│            ┆            ┆            ┆           ┆   ┆            ┆ andb.ai/m ┆        ┆         │\n",
       "│            ┆            ┆            ┆           ┆   ┆            ┆ inami373/ ┆        ┆         │\n",
       "│            ┆            ┆            ┆           ┆   ┆            ┆ lip…      ┆        ┆         │\n",
       "│ 8          ┆ 100        ┆ 0.1        ┆ 3         ┆ … ┆ mel,ssl    ┆ https://w ┆ 0.4571 ┆ 0.8477  │\n",
       "│            ┆            ┆            ┆           ┆   ┆            ┆ andb.ai/m ┆        ┆         │\n",
       "│            ┆            ┆            ┆           ┆   ┆            ┆ inami373/ ┆        ┆         │\n",
       "│            ┆            ┆            ┆           ┆   ┆            ┆ lip…      ┆        ┆         │\n",
       "│ 8          ┆ 100        ┆ 1.0        ┆ 3         ┆ … ┆ mel,ssl    ┆ https://w ┆ 0.471  ┆ 0.7699  │\n",
       "│            ┆            ┆            ┆           ┆   ┆            ┆ andb.ai/m ┆        ┆         │\n",
       "│            ┆            ┆            ┆           ┆   ┆            ┆ inami373/ ┆        ┆         │\n",
       "│            ┆            ┆            ┆           ┆   ┆            ┆ lip…      ┆        ┆         │\n",
       "└────────────┴────────────┴────────────┴───────────┴───┴────────────┴───────────┴────────┴─────────┘"
      ]
     },
     "execution_count": 21,
     "metadata": {},
     "output_type": "execute_result"
    }
   ],
   "source": [
    "df.filter(pl.col(\"method_id\") == 3)"
   ]
  },
  {
   "cell_type": "code",
   "execution_count": 22,
   "metadata": {},
   "outputs": [
    {
     "data": {
      "text/html": [
       "<div><style>\n",
       ".dataframe > thead > tr,\n",
       ".dataframe > tbody > tr {\n",
       "  text-align: right;\n",
       "  white-space: pre-wrap;\n",
       "}\n",
       "</style>\n",
       "<small>shape: (5, 11)</small><table border=\"1\" class=\"dataframe\"><thead><tr><th>layer_index_cluster</th><th>n_clusters</th><th>cluster_weight</th><th>method_id</th><th>method</th><th>pretrained</th><th>decoder</th><th>hifigan_input</th><th>wandb</th><th>wer</th><th>spk_sim</th></tr><tr><td>i64</td><td>i64</td><td>f64</td><td>i64</td><td>str</td><td>bool</td><td>str</td><td>str</td><td>str</td><td>f64</td><td>f64</td></tr></thead><tbody><tr><td>8</td><td>100</td><td>0.0001</td><td>4</td><td>&quot;speech_ssl&quot;</td><td>true</td><td>&quot;convres&quot;</td><td>&quot;mel,ssl&quot;</td><td>&quot;https://wandb.ai/minami373/lip…</td><td>0.589</td><td>0.8487</td></tr><tr><td>8</td><td>100</td><td>0.001</td><td>4</td><td>&quot;speech_ssl&quot;</td><td>true</td><td>&quot;convres&quot;</td><td>&quot;mel,ssl&quot;</td><td>&quot;https://wandb.ai/minami373/lip…</td><td>0.5747</td><td>0.8462</td></tr><tr><td>8</td><td>100</td><td>0.01</td><td>4</td><td>&quot;speech_ssl&quot;</td><td>true</td><td>&quot;convres&quot;</td><td>&quot;mel,ssl&quot;</td><td>&quot;https://wandb.ai/minami373/lip…</td><td>0.5797</td><td>0.854</td></tr><tr><td>8</td><td>100</td><td>0.1</td><td>4</td><td>&quot;speech_ssl&quot;</td><td>true</td><td>&quot;convres&quot;</td><td>&quot;mel,ssl&quot;</td><td>&quot;https://wandb.ai/minami373/lip…</td><td>0.4703</td><td>0.8328</td></tr><tr><td>8</td><td>100</td><td>1.0</td><td>4</td><td>&quot;speech_ssl&quot;</td><td>true</td><td>&quot;convres&quot;</td><td>&quot;mel,ssl&quot;</td><td>&quot;https://wandb.ai/minami373/lip…</td><td>0.4892</td><td>0.7375</td></tr></tbody></table></div>"
      ],
      "text/plain": [
       "shape: (5, 11)\n",
       "┌────────────┬────────────┬────────────┬───────────┬───┬────────────┬───────────┬────────┬─────────┐\n",
       "│ layer_inde ┆ n_clusters ┆ cluster_we ┆ method_id ┆ … ┆ hifigan_in ┆ wandb     ┆ wer    ┆ spk_sim │\n",
       "│ x_cluster  ┆ ---        ┆ ight       ┆ ---       ┆   ┆ put        ┆ ---       ┆ ---    ┆ ---     │\n",
       "│ ---        ┆ i64        ┆ ---        ┆ i64       ┆   ┆ ---        ┆ str       ┆ f64    ┆ f64     │\n",
       "│ i64        ┆            ┆ f64        ┆           ┆   ┆ str        ┆           ┆        ┆         │\n",
       "╞════════════╪════════════╪════════════╪═══════════╪═══╪════════════╪═══════════╪════════╪═════════╡\n",
       "│ 8          ┆ 100        ┆ 0.0001     ┆ 4         ┆ … ┆ mel,ssl    ┆ https://w ┆ 0.589  ┆ 0.8487  │\n",
       "│            ┆            ┆            ┆           ┆   ┆            ┆ andb.ai/m ┆        ┆         │\n",
       "│            ┆            ┆            ┆           ┆   ┆            ┆ inami373/ ┆        ┆         │\n",
       "│            ┆            ┆            ┆           ┆   ┆            ┆ lip…      ┆        ┆         │\n",
       "│ 8          ┆ 100        ┆ 0.001      ┆ 4         ┆ … ┆ mel,ssl    ┆ https://w ┆ 0.5747 ┆ 0.8462  │\n",
       "│            ┆            ┆            ┆           ┆   ┆            ┆ andb.ai/m ┆        ┆         │\n",
       "│            ┆            ┆            ┆           ┆   ┆            ┆ inami373/ ┆        ┆         │\n",
       "│            ┆            ┆            ┆           ┆   ┆            ┆ lip…      ┆        ┆         │\n",
       "│ 8          ┆ 100        ┆ 0.01       ┆ 4         ┆ … ┆ mel,ssl    ┆ https://w ┆ 0.5797 ┆ 0.854   │\n",
       "│            ┆            ┆            ┆           ┆   ┆            ┆ andb.ai/m ┆        ┆         │\n",
       "│            ┆            ┆            ┆           ┆   ┆            ┆ inami373/ ┆        ┆         │\n",
       "│            ┆            ┆            ┆           ┆   ┆            ┆ lip…      ┆        ┆         │\n",
       "│ 8          ┆ 100        ┆ 0.1        ┆ 4         ┆ … ┆ mel,ssl    ┆ https://w ┆ 0.4703 ┆ 0.8328  │\n",
       "│            ┆            ┆            ┆           ┆   ┆            ┆ andb.ai/m ┆        ┆         │\n",
       "│            ┆            ┆            ┆           ┆   ┆            ┆ inami373/ ┆        ┆         │\n",
       "│            ┆            ┆            ┆           ┆   ┆            ┆ lip…      ┆        ┆         │\n",
       "│ 8          ┆ 100        ┆ 1.0        ┆ 4         ┆ … ┆ mel,ssl    ┆ https://w ┆ 0.4892 ┆ 0.7375  │\n",
       "│            ┆            ┆            ┆           ┆   ┆            ┆ andb.ai/m ┆        ┆         │\n",
       "│            ┆            ┆            ┆           ┆   ┆            ┆ inami373/ ┆        ┆         │\n",
       "│            ┆            ┆            ┆           ┆   ┆            ┆ lip…      ┆        ┆         │\n",
       "└────────────┴────────────┴────────────┴───────────┴───┴────────────┴───────────┴────────┴─────────┘"
      ]
     },
     "execution_count": 22,
     "metadata": {},
     "output_type": "execute_result"
    }
   ],
   "source": [
    "df.filter(pl.col(\"method_id\") == 4)"
   ]
  },
  {
   "cell_type": "code",
   "execution_count": 23,
   "metadata": {},
   "outputs": [
    {
     "data": {
      "text/html": [
       "<div><style>\n",
       ".dataframe > thead > tr,\n",
       ".dataframe > tbody > tr {\n",
       "  text-align: right;\n",
       "  white-space: pre-wrap;\n",
       "}\n",
       "</style>\n",
       "<small>shape: (5, 11)</small><table border=\"1\" class=\"dataframe\"><thead><tr><th>layer_index_cluster</th><th>n_clusters</th><th>cluster_weight</th><th>method_id</th><th>method</th><th>pretrained</th><th>decoder</th><th>hifigan_input</th><th>wandb</th><th>wer</th><th>spk_sim</th></tr><tr><td>i64</td><td>i64</td><td>f64</td><td>i64</td><td>str</td><td>bool</td><td>str</td><td>str</td><td>str</td><td>f64</td><td>f64</td></tr></thead><tbody><tr><td>8</td><td>100</td><td>0.0001</td><td>5</td><td>&quot;ensemble&quot;</td><td>true</td><td>&quot;convres&quot;</td><td>&quot;mel,ssl&quot;</td><td>&quot;https://wandb.ai/minami373/lip…</td><td>0.5762</td><td>0.851</td></tr><tr><td>8</td><td>100</td><td>0.001</td><td>5</td><td>&quot;ensemble&quot;</td><td>true</td><td>&quot;convres&quot;</td><td>&quot;mel,ssl&quot;</td><td>&quot;https://wandb.ai/minami373/lip…</td><td>0.5808</td><td>0.8509</td></tr><tr><td>8</td><td>100</td><td>0.01</td><td>5</td><td>&quot;ensemble&quot;</td><td>true</td><td>&quot;convres&quot;</td><td>&quot;mel,ssl&quot;</td><td>&quot;https://wandb.ai/minami373/lip…</td><td>0.5819</td><td>0.8607</td></tr><tr><td>8</td><td>100</td><td>0.1</td><td>5</td><td>&quot;ensemble&quot;</td><td>true</td><td>&quot;convres&quot;</td><td>&quot;mel,ssl&quot;</td><td>&quot;https://wandb.ai/minami373/lip…</td><td>0.4682</td><td>0.8223</td></tr><tr><td>8</td><td>100</td><td>1.0</td><td>5</td><td>&quot;ensemble&quot;</td><td>true</td><td>&quot;convres&quot;</td><td>&quot;mel,ssl&quot;</td><td>&quot;https://wandb.ai/minami373/lip…</td><td>0.4949</td><td>0.7671</td></tr></tbody></table></div>"
      ],
      "text/plain": [
       "shape: (5, 11)\n",
       "┌────────────┬────────────┬────────────┬───────────┬───┬────────────┬───────────┬────────┬─────────┐\n",
       "│ layer_inde ┆ n_clusters ┆ cluster_we ┆ method_id ┆ … ┆ hifigan_in ┆ wandb     ┆ wer    ┆ spk_sim │\n",
       "│ x_cluster  ┆ ---        ┆ ight       ┆ ---       ┆   ┆ put        ┆ ---       ┆ ---    ┆ ---     │\n",
       "│ ---        ┆ i64        ┆ ---        ┆ i64       ┆   ┆ ---        ┆ str       ┆ f64    ┆ f64     │\n",
       "│ i64        ┆            ┆ f64        ┆           ┆   ┆ str        ┆           ┆        ┆         │\n",
       "╞════════════╪════════════╪════════════╪═══════════╪═══╪════════════╪═══════════╪════════╪═════════╡\n",
       "│ 8          ┆ 100        ┆ 0.0001     ┆ 5         ┆ … ┆ mel,ssl    ┆ https://w ┆ 0.5762 ┆ 0.851   │\n",
       "│            ┆            ┆            ┆           ┆   ┆            ┆ andb.ai/m ┆        ┆         │\n",
       "│            ┆            ┆            ┆           ┆   ┆            ┆ inami373/ ┆        ┆         │\n",
       "│            ┆            ┆            ┆           ┆   ┆            ┆ lip…      ┆        ┆         │\n",
       "│ 8          ┆ 100        ┆ 0.001      ┆ 5         ┆ … ┆ mel,ssl    ┆ https://w ┆ 0.5808 ┆ 0.8509  │\n",
       "│            ┆            ┆            ┆           ┆   ┆            ┆ andb.ai/m ┆        ┆         │\n",
       "│            ┆            ┆            ┆           ┆   ┆            ┆ inami373/ ┆        ┆         │\n",
       "│            ┆            ┆            ┆           ┆   ┆            ┆ lip…      ┆        ┆         │\n",
       "│ 8          ┆ 100        ┆ 0.01       ┆ 5         ┆ … ┆ mel,ssl    ┆ https://w ┆ 0.5819 ┆ 0.8607  │\n",
       "│            ┆            ┆            ┆           ┆   ┆            ┆ andb.ai/m ┆        ┆         │\n",
       "│            ┆            ┆            ┆           ┆   ┆            ┆ inami373/ ┆        ┆         │\n",
       "│            ┆            ┆            ┆           ┆   ┆            ┆ lip…      ┆        ┆         │\n",
       "│ 8          ┆ 100        ┆ 0.1        ┆ 5         ┆ … ┆ mel,ssl    ┆ https://w ┆ 0.4682 ┆ 0.8223  │\n",
       "│            ┆            ┆            ┆           ┆   ┆            ┆ andb.ai/m ┆        ┆         │\n",
       "│            ┆            ┆            ┆           ┆   ┆            ┆ inami373/ ┆        ┆         │\n",
       "│            ┆            ┆            ┆           ┆   ┆            ┆ lip…      ┆        ┆         │\n",
       "│ 8          ┆ 100        ┆ 1.0        ┆ 5         ┆ … ┆ mel,ssl    ┆ https://w ┆ 0.4949 ┆ 0.7671  │\n",
       "│            ┆            ┆            ┆           ┆   ┆            ┆ andb.ai/m ┆        ┆         │\n",
       "│            ┆            ┆            ┆           ┆   ┆            ┆ inami373/ ┆        ┆         │\n",
       "│            ┆            ┆            ┆           ┆   ┆            ┆ lip…      ┆        ┆         │\n",
       "└────────────┴────────────┴────────────┴───────────┴───┴────────────┴───────────┴────────┴─────────┘"
      ]
     },
     "execution_count": 23,
     "metadata": {},
     "output_type": "execute_result"
    }
   ],
   "source": [
    "df.filter(pl.col(\"method_id\") == 5)"
   ]
  }
 ],
 "metadata": {
  "kernelspec": {
   "display_name": ".venv",
   "language": "python",
   "name": "python3"
  },
  "language_info": {
   "codemirror_mode": {
    "name": "ipython",
    "version": 3
   },
   "file_extension": ".py",
   "mimetype": "text/x-python",
   "name": "python",
   "nbconvert_exporter": "python",
   "pygments_lexer": "ipython3",
   "version": "3.12.2"
  }
 },
 "nbformat": 4,
 "nbformat_minor": 2
}
