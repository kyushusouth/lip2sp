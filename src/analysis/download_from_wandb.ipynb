{
 "cells": [
  {
   "cell_type": "code",
   "execution_count": 68,
   "metadata": {},
   "outputs": [
    {
     "name": "stderr",
     "output_type": "stream",
     "text": [
      "\u001b[34m\u001b[1mwandb\u001b[0m: \u001b[33mWARNING\u001b[0m If you're specifying your api key in code, ensure this code is not shared publicly.\n",
      "\u001b[34m\u001b[1mwandb\u001b[0m: \u001b[33mWARNING\u001b[0m Consider setting the WANDB_API_KEY environment variable, or running `wandb login` from the command line.\n",
      "\u001b[34m\u001b[1mwandb\u001b[0m: Appending key for api.wandb.ai to your netrc file: /Users/minami/.netrc\n"
     ]
    },
    {
     "data": {
      "text/plain": [
       "True"
      ]
     },
     "execution_count": 68,
     "metadata": {},
     "output_type": "execute_result"
    }
   ],
   "source": [
    "import polars as pl\n",
    "import seaborn as sns\n",
    "import wandb\n",
    "\n",
    "sns.set_style(\"whitegrid\")\n",
    "wandb.login(key=\"090cd032aea4c94dd3375f1dc7823acc30e6abef\")"
   ]
  },
  {
   "cell_type": "code",
   "execution_count": 69,
   "metadata": {},
   "outputs": [],
   "source": [
    "project_root = \"minami373/lip2sp-base_hubert_2\"\n",
    "run_id_lst = [\n",
    "    [\"odv0emes\", \"5\", \"1.0\"],\n",
    "    [\"60ys3all\", \"4\", \"1.0\"],\n",
    "    [\"izo6mdh0\", \"3\", \"1.0\"],\n",
    "    [\"ba09i1ew\", \"2\", \"1.0\"],\n",
    "    [\"pecao4dn\", \"1\", \"1.0\"],\n",
    "    [\"imh40eeh\", \"0\", \"1.0\"],\n",
    "    [\"i1mczf2h\", \"5\", \"0.1\"],\n",
    "    [\"nm1dclqz\", \"4\", \"0.1\"],\n",
    "    [\"2dt6htxh\", \"3\", \"0.1\"],\n",
    "    [\"imlwx94m\", \"2\", \"0.1\"],\n",
    "    [\"vsfgac4w\", \"1\", \"0.1\"],\n",
    "    [\"fzqmwx3z\", \"0\", \"0.1\"],\n",
    "    [\"fkgqrn5h\", \"5\", \"0.01\"],\n",
    "    [\"xyyd6rku\", \"4\", \"0.01\"],\n",
    "    [\"i3ut85vl\", \"3\", \"0.01\"],\n",
    "    [\"2x993ena\", \"2\", \"0.01\"],\n",
    "    [\"sl31gibt\", \"1\", \"0.01\"],\n",
    "    [\"k88qzr3b\", \"1\", \"0.01\"],  # failed\n",
    "    [\"olk9j1yg\", \"0\", \"0.01\"],\n",
    "    [\"4e8boifl\", \"5\", \"0.001\"],\n",
    "    [\"fsnfvb38\", \"4\", \"0.001\"],\n",
    "    [\"1o96778p\", \"3\", \"0.001\"],\n",
    "    [\"ylxw0mcn\", \"2\", \"0.001\"],\n",
    "    [\"h5jxjl2g\", \"1\", \"0.001\"],\n",
    "    [\"6z9pifij\", \"0\", \"0.001\"],\n",
    "    [\"65nwynxb\", \"5\", \"0.0001\"],\n",
    "    [\"oujb8ts2\", \"4\", \"0.0001\"],\n",
    "    [\"hnrlbas6\", \"3\", \"0.0001\"],\n",
    "    [\"kspkyqbg\", \"2\", \"0.0001\"],\n",
    "    [\"sh53o37y\", \"1\", \"0.0001\"],\n",
    "    [\"awxiwjwt\", \"0\", \"0.0001\"],\n",
    "]"
   ]
  },
  {
   "cell_type": "code",
   "execution_count": 70,
   "metadata": {},
   "outputs": [],
   "source": [
    "for run_id, method_id, loss_weight in run_id_lst:\n",
    "    api = wandb.Api()\n",
    "    run = api.run(f\"{project_root}/{run_id}\")\n",
    "    df = run.history()\n",
    "    table_lst = [\n",
    "        \"total_loss_table\",\n",
    "        \"ssl_feature_cluster_loss_table\",\n",
    "        \"ssl_feature_cluster_speech_ssl_loss_table\",\n",
    "        \"mel_loss_table\",\n",
    "        \"mel_ensemble_loss_table\",\n",
    "        \"ssl_conv_feature_loss_table\",\n",
    "        \"mel_speech_ssl_loss_table\",\n",
    "        \"ssl_feature_cluster_ensemble_loss_table\",\n",
    "    ]\n",
    "    for table in table_lst:\n",
    "        run.file(df[table].dropna().iloc[-1][\"path\"]).download(root=f\"./results/{run_id}\")"
   ]
  }
 ],
 "metadata": {
  "kernelspec": {
   "display_name": ".venv",
   "language": "python",
   "name": "python3"
  },
  "language_info": {
   "codemirror_mode": {
    "name": "ipython",
    "version": 3
   },
   "file_extension": ".py",
   "mimetype": "text/x-python",
   "name": "python",
   "nbconvert_exporter": "python",
   "pygments_lexer": "ipython3",
   "version": "3.12.2"
  }
 },
 "nbformat": 4,
 "nbformat_minor": 2
}
