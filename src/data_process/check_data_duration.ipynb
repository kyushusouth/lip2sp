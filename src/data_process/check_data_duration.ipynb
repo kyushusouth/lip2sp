{
 "cells": [
  {
   "cell_type": "code",
   "execution_count": 1,
   "metadata": {},
   "outputs": [],
   "source": [
    "import polars as pl\n",
    "import matplotlib.pyplot as plt\n",
    "import seaborn as sns\n",
    "\n",
    "sns.set_style(\"whitegrid\")"
   ]
  },
  {
   "cell_type": "code",
   "execution_count": 8,
   "metadata": {},
   "outputs": [],
   "source": [
    "df = pl.read_csv(\"./check_data_duration_result.csv\")"
   ]
  },
  {
   "cell_type": "code",
   "execution_count": 11,
   "metadata": {},
   "outputs": [
    {
     "data": {
      "text/plain": [
       "array([['M04_kablab', 'ATR503_g42', 10.474125, 10.24],\n",
       "       ['M04_kablab', 'ATR503_e43', 12.417625, 12.12],\n",
       "       ['M04_kablab', 'ATR503_c21', 11.29975, 10.96],\n",
       "       ['M04_kablab', 'ATR503_f37', 10.4238125, 10.16],\n",
       "       ['M04_kablab', 'ATR503_d20', 10.4454375, 10.12],\n",
       "       ['M04_kablab', 'ATR503_e48', 13.0200625, 12.72],\n",
       "       ['M04_kablab', 'ATR503_a39', 10.6884375, 10.32],\n",
       "       ['M01_kablab', 'ATR503_e43', 11.96, 12.0],\n",
       "       ['M01_kablab', 'ATR503_c21', 11.150125, 11.28],\n",
       "       ['M01_kablab', 'ATR503_b37', 10.344375, 10.4],\n",
       "       ['M01_kablab', 'ATR503_d20', 10.138375, 10.2],\n",
       "       ['M01_kablab', 'ATR503_e48', 11.5443125, 11.68],\n",
       "       ['M01_kablab', 'ATR503_a39', 11.8116875, 11.4]], dtype=object)"
      ]
     },
     "execution_count": 11,
     "metadata": {},
     "output_type": "execute_result"
    }
   ],
   "source": [
    "df.filter((pl.col(\"dur_a\") > 10) & (pl.col(\"dur_v\") > 10) & (pl.col(\"filename\").str.contains(\"ATR\"))).to_numpy()"
   ]
  }
 ],
 "metadata": {
  "kernelspec": {
   "display_name": ".venv",
   "language": "python",
   "name": "python3"
  },
  "language_info": {
   "codemirror_mode": {
    "name": "ipython",
    "version": 3
   },
   "file_extension": ".py",
   "mimetype": "text/x-python",
   "name": "python",
   "nbconvert_exporter": "python",
   "pygments_lexer": "ipython3",
   "version": "3.11.4"
  }
 },
 "nbformat": 4,
 "nbformat_minor": 2
}
