{
 "cells": [
  {
   "cell_type": "code",
   "execution_count": 14,
   "metadata": {},
   "outputs": [],
   "source": [
    "import polars as pl\n",
    "from collections import defaultdict"
   ]
  },
  {
   "cell_type": "code",
   "execution_count": 3,
   "metadata": {},
   "outputs": [
    {
     "data": {
      "text/html": [
       "<div><style>\n",
       ".dataframe > thead > tr,\n",
       ".dataframe > tbody > tr {\n",
       "  text-align: right;\n",
       "  white-space: pre-wrap;\n",
       "}\n",
       "</style>\n",
       "<small>shape: (100, 4)</small><table border=\"1\" class=\"dataframe\"><thead><tr><th>speaker</th><th>Male_or_Female</th><th>minf0[Hz]</th><th>maxf0[Hz]</th></tr><tr><td>str</td><td>str</td><td>i64</td><td>i64</td></tr></thead><tbody><tr><td>&quot;jvs001&quot;</td><td>&quot;M&quot;</td><td>70</td><td>300</td></tr><tr><td>&quot;jvs002&quot;</td><td>&quot;F&quot;</td><td>130</td><td>390</td></tr><tr><td>&quot;jvs003&quot;</td><td>&quot;M&quot;</td><td>70</td><td>275</td></tr><tr><td>&quot;jvs004&quot;</td><td>&quot;F&quot;</td><td>130</td><td>430</td></tr><tr><td>&quot;jvs005&quot;</td><td>&quot;M&quot;</td><td>70</td><td>285</td></tr><tr><td>&hellip;</td><td>&hellip;</td><td>&hellip;</td><td>&hellip;</td></tr><tr><td>&quot;jvs096&quot;</td><td>&quot;F&quot;</td><td>135</td><td>410</td></tr><tr><td>&quot;jvs097&quot;</td><td>&quot;M&quot;</td><td>70</td><td>305</td></tr><tr><td>&quot;jvs098&quot;</td><td>&quot;M&quot;</td><td>70</td><td>340</td></tr><tr><td>&quot;jvs099&quot;</td><td>&quot;M&quot;</td><td>70</td><td>300</td></tr><tr><td>&quot;jvs100&quot;</td><td>&quot;M&quot;</td><td>70</td><td>240</td></tr></tbody></table></div>"
      ],
      "text/plain": [
       "shape: (100, 4)\n",
       "┌─────────┬────────────────┬───────────┬───────────┐\n",
       "│ speaker ┆ Male_or_Female ┆ minf0[Hz] ┆ maxf0[Hz] │\n",
       "│ ---     ┆ ---            ┆ ---       ┆ ---       │\n",
       "│ str     ┆ str            ┆ i64       ┆ i64       │\n",
       "╞═════════╪════════════════╪═══════════╪═══════════╡\n",
       "│ jvs001  ┆ M              ┆ 70        ┆ 300       │\n",
       "│ jvs002  ┆ F              ┆ 130       ┆ 390       │\n",
       "│ jvs003  ┆ M              ┆ 70        ┆ 275       │\n",
       "│ jvs004  ┆ F              ┆ 130       ┆ 430       │\n",
       "│ jvs005  ┆ M              ┆ 70        ┆ 285       │\n",
       "│ …       ┆ …              ┆ …         ┆ …         │\n",
       "│ jvs096  ┆ F              ┆ 135       ┆ 410       │\n",
       "│ jvs097  ┆ M              ┆ 70        ┆ 305       │\n",
       "│ jvs098  ┆ M              ┆ 70        ┆ 340       │\n",
       "│ jvs099  ┆ M              ┆ 70        ┆ 300       │\n",
       "│ jvs100  ┆ M              ┆ 70        ┆ 240       │\n",
       "└─────────┴────────────────┴───────────┴───────────┘"
      ]
     },
     "execution_count": 3,
     "metadata": {},
     "output_type": "execute_result"
    }
   ],
   "source": [
    "df = pl.read_csv(\"/home/minami/dataset/jvs_ver1/gender_f0range.txt\")\n",
    "df"
   ]
  },
  {
   "cell_type": "code",
   "execution_count": 16,
   "metadata": {},
   "outputs": [
    {
     "data": {
      "text/plain": [
       "defaultdict(int,\n",
       "            {'num<=80_M': 40,\n",
       "             'num<=80_F': 40,\n",
       "             '81<=num<=90_M': 5,\n",
       "             '81<=num<=90_F': 5,\n",
       "             '91<=num_F': 6,\n",
       "             '91<=num_M': 4})"
      ]
     },
     "execution_count": 16,
     "metadata": {},
     "output_type": "execute_result"
    }
   ],
   "source": [
    "cnt_dct = defaultdict(int)\n",
    "for row in df.iter_rows(named=True):\n",
    "    num = int(row[\"speaker\"][3:])\n",
    "    sex = row['Male_or_Female']\n",
    "    if num <= 80:\n",
    "        cnt_dct[f\"num<=80_{sex}\"] += 1\n",
    "    elif num <= 90:\n",
    "        cnt_dct[f\"81<=num<=90_{sex}\"] += 1\n",
    "    else:\n",
    "        cnt_dct[f\"91<=num_{sex}\"] += 1\n",
    "cnt_dct"
   ]
  },
  {
   "cell_type": "code",
   "execution_count": null,
   "metadata": {},
   "outputs": [],
   "source": []
  }
 ],
 "metadata": {
  "kernelspec": {
   "display_name": ".venv",
   "language": "python",
   "name": "python3"
  },
  "language_info": {
   "codemirror_mode": {
    "name": "ipython",
    "version": 3
   },
   "file_extension": ".py",
   "mimetype": "text/x-python",
   "name": "python",
   "nbconvert_exporter": "python",
   "pygments_lexer": "ipython3",
   "version": "3.11.4"
  }
 },
 "nbformat": 4,
 "nbformat_minor": 2
}
