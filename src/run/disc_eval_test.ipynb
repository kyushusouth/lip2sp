{
 "cells": [
  {
   "cell_type": "code",
   "execution_count": 2,
   "metadata": {},
   "outputs": [],
   "source": [
    "import polars as pl"
   ]
  },
  {
   "cell_type": "code",
   "execution_count": 4,
   "metadata": {},
   "outputs": [
    {
     "data": {
      "text/html": [
       "<div><style>\n",
       ".dataframe > thead > tr,\n",
       ".dataframe > tbody > tr {\n",
       "  text-align: right;\n",
       "  white-space: pre-wrap;\n",
       "}\n",
       "</style>\n",
       "<small>shape: (2_968, 7)</small><table border=\"1\" class=\"dataframe\"><thead><tr><th>date</th><th>hifigan_input</th><th>speaker</th><th>sample</th><th>kind</th><th>loss_gen_f</th><th>loss_gen_s</th></tr><tr><td>str</td><td>str</td><td>str</td><td>str</td><td>str</td><td>f64</td><td>f64</td></tr></thead><tbody><tr><td>&quot;20240621_134621&quot;</td><td>&quot;feature&quot;</td><td>&quot;M04_kablab&quot;</td><td>&quot;ATR503_j03&quot;</td><td>&quot;abs&quot;</td><td>1.322019</td><td>2.69908</td></tr><tr><td>&quot;20240621_134621&quot;</td><td>&quot;feature&quot;</td><td>&quot;M04_kablab&quot;</td><td>&quot;ATR503_j03&quot;</td><td>&quot;pred&quot;</td><td>1.610042</td><td>2.854889</td></tr><tr><td>&quot;20240621_134621&quot;</td><td>&quot;feature&quot;</td><td>&quot;M04_kablab&quot;</td><td>&quot;ATR503_j02&quot;</td><td>&quot;abs&quot;</td><td>1.410207</td><td>2.624608</td></tr><tr><td>&quot;20240621_134621&quot;</td><td>&quot;feature&quot;</td><td>&quot;M04_kablab&quot;</td><td>&quot;ATR503_j02&quot;</td><td>&quot;pred&quot;</td><td>1.640378</td><td>2.766471</td></tr><tr><td>&quot;20240621_134621&quot;</td><td>&quot;feature&quot;</td><td>&quot;M04_kablab&quot;</td><td>&quot;ATR503_j26&quot;</td><td>&quot;abs&quot;</td><td>1.351976</td><td>2.494993</td></tr><tr><td>&hellip;</td><td>&hellip;</td><td>&hellip;</td><td>&hellip;</td><td>&hellip;</td><td>&hellip;</td><td>&hellip;</td></tr><tr><td>&quot;20240622_161416&quot;</td><td>&quot;cat_mel_hubert_encoder_hubert_…</td><td>&quot;F02_kablab&quot;</td><td>&quot;ATR503_j34&quot;</td><td>&quot;pred&quot;</td><td>1.736434</td><td>2.547452</td></tr><tr><td>&quot;20240622_161416&quot;</td><td>&quot;cat_mel_hubert_encoder_hubert_…</td><td>&quot;F02_kablab&quot;</td><td>&quot;ATR503_j25&quot;</td><td>&quot;abs&quot;</td><td>1.538335</td><td>2.059021</td></tr><tr><td>&quot;20240622_161416&quot;</td><td>&quot;cat_mel_hubert_encoder_hubert_…</td><td>&quot;F02_kablab&quot;</td><td>&quot;ATR503_j25&quot;</td><td>&quot;pred&quot;</td><td>1.835839</td><td>2.79614</td></tr><tr><td>&quot;20240622_161416&quot;</td><td>&quot;cat_mel_hubert_encoder_hubert_…</td><td>&quot;F02_kablab&quot;</td><td>&quot;ATR503_j50&quot;</td><td>&quot;abs&quot;</td><td>1.619969</td><td>2.374192</td></tr><tr><td>&quot;20240622_161416&quot;</td><td>&quot;cat_mel_hubert_encoder_hubert_…</td><td>&quot;F02_kablab&quot;</td><td>&quot;ATR503_j50&quot;</td><td>&quot;pred&quot;</td><td>2.038431</td><td>2.839646</td></tr></tbody></table></div>"
      ],
      "text/plain": [
       "shape: (2_968, 7)\n",
       "┌─────────────────┬─────────────────────┬────────────┬────────────┬──────┬────────────┬────────────┐\n",
       "│ date            ┆ hifigan_input       ┆ speaker    ┆ sample     ┆ kind ┆ loss_gen_f ┆ loss_gen_s │\n",
       "│ ---             ┆ ---                 ┆ ---        ┆ ---        ┆ ---  ┆ ---        ┆ ---        │\n",
       "│ str             ┆ str                 ┆ str        ┆ str        ┆ str  ┆ f64        ┆ f64        │\n",
       "╞═════════════════╪═════════════════════╪════════════╪════════════╪══════╪════════════╪════════════╡\n",
       "│ 20240621_134621 ┆ feature             ┆ M04_kablab ┆ ATR503_j03 ┆ abs  ┆ 1.322019   ┆ 2.69908    │\n",
       "│ 20240621_134621 ┆ feature             ┆ M04_kablab ┆ ATR503_j03 ┆ pred ┆ 1.610042   ┆ 2.854889   │\n",
       "│ 20240621_134621 ┆ feature             ┆ M04_kablab ┆ ATR503_j02 ┆ abs  ┆ 1.410207   ┆ 2.624608   │\n",
       "│ 20240621_134621 ┆ feature             ┆ M04_kablab ┆ ATR503_j02 ┆ pred ┆ 1.640378   ┆ 2.766471   │\n",
       "│ 20240621_134621 ┆ feature             ┆ M04_kablab ┆ ATR503_j26 ┆ abs  ┆ 1.351976   ┆ 2.494993   │\n",
       "│ …               ┆ …                   ┆ …          ┆ …          ┆ …    ┆ …          ┆ …          │\n",
       "│ 20240622_161416 ┆ cat_mel_hubert_enco ┆ F02_kablab ┆ ATR503_j34 ┆ pred ┆ 1.736434   ┆ 2.547452   │\n",
       "│                 ┆ der_hubert_…        ┆            ┆            ┆      ┆            ┆            │\n",
       "│ 20240622_161416 ┆ cat_mel_hubert_enco ┆ F02_kablab ┆ ATR503_j25 ┆ abs  ┆ 1.538335   ┆ 2.059021   │\n",
       "│                 ┆ der_hubert_…        ┆            ┆            ┆      ┆            ┆            │\n",
       "│ 20240622_161416 ┆ cat_mel_hubert_enco ┆ F02_kablab ┆ ATR503_j25 ┆ pred ┆ 1.835839   ┆ 2.79614    │\n",
       "│                 ┆ der_hubert_…        ┆            ┆            ┆      ┆            ┆            │\n",
       "│ 20240622_161416 ┆ cat_mel_hubert_enco ┆ F02_kablab ┆ ATR503_j50 ┆ abs  ┆ 1.619969   ┆ 2.374192   │\n",
       "│                 ┆ der_hubert_…        ┆            ┆            ┆      ┆            ┆            │\n",
       "│ 20240622_161416 ┆ cat_mel_hubert_enco ┆ F02_kablab ┆ ATR503_j50 ┆ pred ┆ 2.038431   ┆ 2.839646   │\n",
       "│                 ┆ der_hubert_…        ┆            ┆            ┆      ┆            ┆            │\n",
       "└─────────────────┴─────────────────────┴────────────┴────────────┴──────┴────────────┴────────────┘"
      ]
     },
     "execution_count": 4,
     "metadata": {},
     "output_type": "execute_result"
    }
   ],
   "source": [
    "df = pl.read_csv(\"./disc_eval_test.csv\")\n",
    "df"
   ]
  },
  {
   "cell_type": "code",
   "execution_count": 7,
   "metadata": {},
   "outputs": [],
   "source": [
    "df.group_by([\"date\", \"kind\"]).agg(\n",
    "    pl.col(\"loss_gen_f\").mean(),\n",
    "    pl.col(\"loss_gen_s\").mean(),\n",
    ").sort(['loss_gen_s']).write_csv('./disc_eval_test_agg.csv')"
   ]
  }
 ],
 "metadata": {
  "kernelspec": {
   "display_name": ".venv",
   "language": "python",
   "name": "python3"
  },
  "language_info": {
   "codemirror_mode": {
    "name": "ipython",
    "version": 3
   },
   "file_extension": ".py",
   "mimetype": "text/x-python",
   "name": "python",
   "nbconvert_exporter": "python",
   "pygments_lexer": "ipython3",
   "version": "3.11.4"
  }
 },
 "nbformat": 4,
 "nbformat_minor": 2
}
